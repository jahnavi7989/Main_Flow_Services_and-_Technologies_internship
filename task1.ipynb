{
 "cells": [
  {
   "cell_type": "code",
   "execution_count": 7,
   "id": "9e60eee8",
   "metadata": {},
   "outputs": [
    {
     "name": "stdout",
     "output_type": "stream",
     "text": [
      "list at begining [22, 33, 4, 5]\n",
      "[22, 33, 4, 5, 78]\n",
      "[22, 4, 5, 78]\n",
      "updated list [22, 4, 5, 67]\n"
     ]
    }
   ],
   "source": [
    "#creating a List\n",
    "list_=[22,33,4,5]\n",
    "print('list at begining', list_)\n",
    "\n",
    "#appending an element to list\n",
    "list_.append(78)\n",
    "print(list_)\n",
    "\n",
    "#removing an element from list\n",
    "list_.remove(33)\n",
    "print(list_)\n",
    "\n",
    "#modifying an element in the list\n",
    "list_[3]=67\n",
    "print('updated list',list_)\n"
   ]
  },
  {
   "cell_type": "code",
   "execution_count": 8,
   "id": "7e3afd61",
   "metadata": {},
   "outputs": [
    {
     "name": "stdout",
     "output_type": "stream",
     "text": [
      "set at begining {33, 4, 5, 22}\n",
      "{33, 4, 5, 7, 22}\n",
      "{33, 4, 5, 7}\n",
      "updated set {33, 5, 7, 26}\n"
     ]
    }
   ],
   "source": [
    "#creating a set\n",
    "set_={22,33,4,5}\n",
    "print('set at begining', set_)\n",
    "\n",
    "#adding an element to set\n",
    "set_.add(7)\n",
    "print(set_)\n",
    "\n",
    "#removing an element from set\n",
    "set_.remove(22)\n",
    "print(set_)\n",
    "\n",
    "#modifying an element in the set\n",
    "set_.discard(4)\n",
    "set_.add(26)\n",
    "print('updated set',set_)"
   ]
  },
  {
   "cell_type": "code",
   "execution_count": 20,
   "id": "36a227d8",
   "metadata": {},
   "outputs": [
    {
     "name": "stdout",
     "output_type": "stream",
     "text": [
      "dictionary at begining {'name': 'Prasanna', 'age': 26}\n",
      "{'name': 'Prasanna', 'age': 26, 'city': 'kurnool'}\n",
      "{'name': 'Prasanna', 'city': 'kurnool'}\n",
      "updated dictionary {'name': 'Prasanna', 'city': 'hyderabad'}\n"
     ]
    }
   ],
   "source": [
    "#creating a dictionary\n",
    "dict_={'name':'Prasanna',\"age\":26}\n",
    "print('dictionary at begining', dict_)\n",
    "\n",
    "#adding an element to dictionary\n",
    "dict_['city']='kurnool'\n",
    "print(dict_)\n",
    "\n",
    "#removing an element from dictionary\n",
    "del dict_['age']\n",
    "print(dict_)\n",
    "\n",
    "#modifying an element in the dictionary \n",
    "dict_['city']='hyderabad'\n",
    "\n",
    "print('updated dictionary',dict_)"
   ]
  },
  {
   "cell_type": "code",
   "execution_count": null,
   "id": "166a4198",
   "metadata": {},
   "outputs": [],
   "source": []
  }
 ],
 "metadata": {
  "kernelspec": {
   "display_name": "Python 3 (ipykernel)",
   "language": "python",
   "name": "python3"
  },
  "language_info": {
   "codemirror_mode": {
    "name": "ipython",
    "version": 3
   },
   "file_extension": ".py",
   "mimetype": "text/x-python",
   "name": "python",
   "nbconvert_exporter": "python",
   "pygments_lexer": "ipython3",
   "version": "3.10.9"
  }
 },
 "nbformat": 4,
 "nbformat_minor": 5
}
